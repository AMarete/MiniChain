{
 "cells": [
  {
   "cell_type": "code",
   "execution_count": null,
   "id": "06670b10",
   "metadata": {},
   "outputs": [],
   "source": [
    "!pip install -q git+https://github.com/srush/MiniChain\n",
    "!git clone git+https://github.com/srush/MiniChain; cp -fr MiniChain/examples/* . "
   ]
  },
  {
   "cell_type": "code",
   "execution_count": null,
   "id": "0a79be25",
   "metadata": {
    "lines_to_next_cell": 2,
    "tags": [
     "hide_inp"
    ]
   },
   "outputs": [],
   "source": [
    "\n",
    "desc = \"\"\"\n",
    "### Named Entity Recognition\n",
    "\n",
    "Chain that does named entity recognition with arbitrary labels. [![Open In Colab](https://colab.research.google.com/assets/colab-badge.svg)](https://colab.research.google.com/github/srush/MiniChain/blob/master/examples/ner.ipynb)\n",
    "\n",
    "(Adapted from [promptify](https://github.com/promptslab/Promptify/blob/main/promptify/prompts/nlp/templates/ner.jinja)).\n",
    "\"\"\""
   ]
  },
  {
   "cell_type": "code",
   "execution_count": null,
   "id": "06f840d0",
   "metadata": {
    "lines_to_next_cell": 1
   },
   "outputs": [],
   "source": [
    "from minichain import prompt, show, OpenAI"
   ]
  },
  {
   "cell_type": "code",
   "execution_count": null,
   "id": "2bdd2e25",
   "metadata": {
    "lines_to_next_cell": 1
   },
   "outputs": [],
   "source": [
    "@prompt(OpenAI(), template_file = \"ner.pmpt.tpl\", parser=\"json\")\n",
    "def ner_extract(model, kwargs):\n",
    "    return model(kwargs)"
   ]
  },
  {
   "cell_type": "code",
   "execution_count": null,
   "id": "bfe3a72d",
   "metadata": {},
   "outputs": [],
   "source": [
    "@prompt(OpenAI())\n",
    "def team_describe(model, inp):\n",
    "    query = \"Can you describe these basketball teams? \" + \\\n",
    "        \" \".join([i[\"E\"] for i in inp if i[\"T\"] ==\"Team\"])\n",
    "    return model(query)"
   ]
  },
  {
   "cell_type": "code",
   "execution_count": null,
   "id": "20aade14",
   "metadata": {},
   "outputs": [],
   "source": [
    "def ner(text_input, labels, domain):\n",
    "    extract = ner_extract(dict(text_input=text_input, labels=labels, domain=domain))\n",
    "    return team_describe(extract)"
   ]
  },
  {
   "cell_type": "code",
   "execution_count": null,
   "id": "a26cd704",
   "metadata": {},
   "outputs": [],
   "source": []
  },
  {
   "cell_type": "code",
   "execution_count": null,
   "id": "f5ff6856",
   "metadata": {},
   "outputs": [],
   "source": [
    "gradio = show(ner,\n",
    "              examples=[[\"An NBA playoff pairing a year ago, the 76ers (39-20) meet the Miami Heat (32-29) for the first time this season on Monday night at home.\", \"Team, Date\", \"Sports\"]],\n",
    "              description=desc,\n",
    "              subprompts=[ner_extract, team_describe],\n",
    "              )"
   ]
  },
  {
   "cell_type": "code",
   "execution_count": null,
   "id": "bf74293c",
   "metadata": {},
   "outputs": [],
   "source": [
    "if __name__ == \"__main__\":\n",
    "    gradio.launch()"
   ]
  }
 ],
 "metadata": {
  "jupytext": {
   "cell_metadata_filter": "tags,-all",
   "main_language": "python",
   "notebook_metadata_filter": "-all"
  }
 },
 "nbformat": 4,
 "nbformat_minor": 5
}
