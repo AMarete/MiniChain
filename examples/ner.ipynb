{
 "cells": [
  {
   "cell_type": "code",
   "execution_count": null,
   "id": "890bd60f",
   "metadata": {},
   "outputs": [],
   "source": [
    "!pip install -qqq git+https://github.com/srush/MiniChain@gradio"
   ]
  },
  {
   "cell_type": "code",
   "execution_count": null,
   "id": "4223da88",
   "metadata": {
    "lines_to_next_cell": 2,
    "tags": [
     "hide_inp"
    ]
   },
   "outputs": [],
   "source": [
    "\n",
    "desc = \"\"\"\n",
    "### Named Entity Recognition\n",
    "\n",
    "Chain that does named entity recognition with arbitrary labels. [![Open In Colab](https://colab.research.google.com/assets/colab-badge.svg)](https://colab.research.google.com/github/srush/MiniChain/blob/master/examples/ner.ipynb)\n",
    "\n",
    "(Adapted from [promptify](https://github.com/promptslab/Promptify/blob/main/promptify/prompts/nlp/templates/ner.jinja)).\n",
    "\"\"\""
   ]
  },
  {
   "cell_type": "code",
   "execution_count": null,
   "id": "82115d20",
   "metadata": {
    "lines_to_next_cell": 1
   },
   "outputs": [],
   "source": [
    "from minichain import prompt, show, OpenAI"
   ]
  },
  {
   "cell_type": "code",
   "execution_count": null,
   "id": "8c0d222e",
   "metadata": {
    "lines_to_next_cell": 1
   },
   "outputs": [],
   "source": [
    "@prompt(OpenAI(), template_file = \"ner.pmpt.tpl\", parser=\"json\")\n",
    "def ner_extract(model, kwargs):\n",
    "    return model(kwargs)"
   ]
  },
  {
   "cell_type": "code",
   "execution_count": null,
   "id": "2623c6e7",
   "metadata": {},
   "outputs": [],
   "source": [
    "@prompt(OpenAI())\n",
    "def team_describe(model, inp):\n",
    "    query = \"Can you describe these basketball teams? \" + \\\n",
    "        \" \".join([i[\"E\"] for i in inp if i[\"T\"] ==\"Team\"])\n",
    "    return model(query)"
   ]
  },
  {
   "cell_type": "code",
   "execution_count": null,
   "id": "d329da57",
   "metadata": {},
   "outputs": [],
   "source": [
    "def ner(text_input, labels, domain):\n",
    "    extract = ner_extract(dict(text_input=text_input, labels=labels, domain=domain))\n",
    "    return team_describe(extract)"
   ]
  },
  {
   "cell_type": "code",
   "execution_count": null,
   "id": "800b34df",
   "metadata": {},
   "outputs": [],
   "source": []
  },
  {
   "cell_type": "code",
   "execution_count": null,
   "id": "16d97534",
   "metadata": {},
   "outputs": [],
   "source": [
    "gradio = show(ner,\n",
    "              examples=[[\"An NBA playoff pairing a year ago, the 76ers (39-20) meet the Miami Heat (32-29) for the first time this season on Monday night at home.\", \"Team, Date\", \"Sports\"]],\n",
    "              description=desc,\n",
    "              subprompts=[ner_extract, team_describe],\n",
    "              )"
   ]
  },
  {
   "cell_type": "code",
   "execution_count": null,
   "id": "3192d8ce",
   "metadata": {
    "lines_to_next_cell": 2
   },
   "outputs": [],
   "source": [
    "if __name__ == \"__main__\":\n",
    "    gradio.launch()"
   ]
  },
  {
   "cell_type": "markdown",
   "id": "179192f8",
   "metadata": {},
   "source": [
    "View prompt examples."
   ]
  },
  {
   "cell_type": "code",
   "execution_count": null,
   "id": "ea0f9c69",
   "metadata": {
    "tags": [
     "hide_inp"
    ]
   },
   "outputs": [],
   "source": [
    "# NERPrompt().show(\n",
    "#     {\n",
    "#         \"input\": \"I went to New York\",\n",
    "#         \"domain\": \"Travel\",\n",
    "#         \"labels\": [\"City\"]\n",
    "#     },\n",
    "#     '[{\"T\": \"City\", \"E\": \"New York\"}]',\n",
    "# )\n",
    "# # -\n",
    "\n",
    "# # View log.\n",
    "\n",
    "# minichain.show_log(\"ner.log\")"
   ]
  }
 ],
 "metadata": {
  "jupytext": {
   "cell_metadata_filter": "tags,-all",
   "main_language": "python",
   "notebook_metadata_filter": "-all"
  }
 },
 "nbformat": 4,
 "nbformat_minor": 5
}
