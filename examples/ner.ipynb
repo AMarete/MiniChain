{
 "cells": [
  {
   "cell_type": "code",
   "execution_count": 1,
   "id": "bf0248c3",
   "metadata": {
    "execution": {
     "iopub.execute_input": "2023-03-23T15:17:10.076367Z",
     "iopub.status.busy": "2023-03-23T15:17:10.075594Z",
     "iopub.status.idle": "2023-03-23T15:17:10.098876Z",
     "shell.execute_reply": "2023-03-23T15:17:10.096664Z"
    },
    "tags": [
     "hide_inp"
    ]
   },
   "outputs": [],
   "source": [
    "\n",
    "desc = \"\"\"\n",
    "### Named Entity Recognition\n",
    "\n",
    "Chain that does named entity recognition with arbitrary labels. [[Code](https://github.com/srush/MiniChain/blob/main/examples/ner.py)]\n",
    "\n",
    "(Adapted from [promptify](https://github.com/promptslab/Promptify/blob/main/promptify/prompts/nlp/templates/ner.jinja)).\n",
    "\"\"\""
   ]
  },
  {
   "cell_type": "markdown",
   "id": "ae9f080b",
   "metadata": {},
   "source": [
    "$"
   ]
  },
  {
   "cell_type": "code",
   "execution_count": 2,
   "id": "a6d9cc84",
   "metadata": {
    "execution": {
     "iopub.execute_input": "2023-03-23T15:17:10.107641Z",
     "iopub.status.busy": "2023-03-23T15:17:10.106963Z",
     "iopub.status.idle": "2023-03-23T15:17:11.450054Z",
     "shell.execute_reply": "2023-03-23T15:17:11.449341Z"
    },
    "lines_to_next_cell": 1
   },
   "outputs": [],
   "source": [
    "from minichain import prompt, show, OpenAI"
   ]
  },
  {
   "cell_type": "code",
   "execution_count": 3,
   "id": "9ce6163d",
   "metadata": {
    "execution": {
     "iopub.execute_input": "2023-03-23T15:17:11.452778Z",
     "iopub.status.busy": "2023-03-23T15:17:11.452447Z",
     "iopub.status.idle": "2023-03-23T15:17:11.455835Z",
     "shell.execute_reply": "2023-03-23T15:17:11.455382Z"
    },
    "lines_to_next_cell": 1
   },
   "outputs": [],
   "source": [
    "@prompt(OpenAI(), template_file = \"ner.pmpt.tpl\", parser=\"json\")\n",
    "def ner_extract(model, kwargs):\n",
    "    return model(kwargs)"
   ]
  },
  {
   "cell_type": "code",
   "execution_count": 4,
   "id": "cbb43985",
   "metadata": {
    "execution": {
     "iopub.execute_input": "2023-03-23T15:17:11.458046Z",
     "iopub.status.busy": "2023-03-23T15:17:11.457855Z",
     "iopub.status.idle": "2023-03-23T15:17:11.461277Z",
     "shell.execute_reply": "2023-03-23T15:17:11.460820Z"
    }
   },
   "outputs": [],
   "source": [
    "@prompt(OpenAI())\n",
    "def team_describe(model, inp):\n",
    "    query = \"Can you describe these basketball teams? \" + \\\n",
    "        \" \".join([i[\"E\"] for i in inp if i[\"T\"] ==\"Team\"])\n",
    "    return model(query)"
   ]
  },
  {
   "cell_type": "code",
   "execution_count": 5,
   "id": "6ad27aa4",
   "metadata": {
    "execution": {
     "iopub.execute_input": "2023-03-23T15:17:11.463340Z",
     "iopub.status.busy": "2023-03-23T15:17:11.463159Z",
     "iopub.status.idle": "2023-03-23T15:17:11.466304Z",
     "shell.execute_reply": "2023-03-23T15:17:11.465870Z"
    }
   },
   "outputs": [],
   "source": [
    "def ner(text_input, labels, domain):\n",
    "    extract = ner_extract(dict(text_input=text_input, labels=labels, domain=domain))\n",
    "    return team_describe(extract)"
   ]
  },
  {
   "cell_type": "markdown",
   "id": "c993d2f6",
   "metadata": {},
   "source": [
    "$"
   ]
  },
  {
   "cell_type": "code",
   "execution_count": 6,
   "id": "d4bfa538",
   "metadata": {
    "execution": {
     "iopub.execute_input": "2023-03-23T15:17:11.468596Z",
     "iopub.status.busy": "2023-03-23T15:17:11.468269Z",
     "iopub.status.idle": "2023-03-23T15:17:11.780197Z",
     "shell.execute_reply": "2023-03-23T15:17:11.779460Z"
    }
   },
   "outputs": [],
   "source": [
    "gradio = show(ner,\n",
    "              examples=[[\"An NBA playoff pairing a year ago, the 76ers (39-20) meet the Miami Heat (32-29) for the first time this season on Monday night at home.\", \"Team, Date\", \"Sports\"]],\n",
    "              description=desc,\n",
    "              subprompts=[ner_extract, team_describe],\n",
    "              code=open(\"ner.py\", \"r\").read().split(\"$\")[1].strip().strip(\"#\").strip(),\n",
    "              )"
   ]
  },
  {
   "cell_type": "code",
   "execution_count": 7,
   "id": "bdc4e27e",
   "metadata": {
    "execution": {
     "iopub.execute_input": "2023-03-23T15:17:11.782784Z",
     "iopub.status.busy": "2023-03-23T15:17:11.782588Z",
     "iopub.status.idle": "2023-03-23T15:17:11.851901Z",
     "shell.execute_reply": "2023-03-23T15:17:11.851328Z"
    },
    "lines_to_next_cell": 2
   },
   "outputs": [
    {
     "name": "stdout",
     "output_type": "stream",
     "text": [
      "Running on local URL:  http://127.0.0.1:7862\n",
      "\n",
      "To create a public link, set `share=True` in `launch()`.\n"
     ]
    },
    {
     "data": {
      "text/html": [
       "<div><iframe src=\"http://127.0.0.1:7862/\" width=\"100%\" height=\"500\" allow=\"autoplay; camera; microphone; clipboard-read; clipboard-write;\" frameborder=\"0\" allowfullscreen></iframe></div>"
      ],
      "text/plain": [
       "<IPython.core.display.HTML object>"
      ]
     },
     "metadata": {},
     "output_type": "display_data"
    }
   ],
   "source": [
    "if __name__ == \"__main__\":\n",
    "    gradio.launch()"
   ]
  },
  {
   "cell_type": "markdown",
   "id": "27f60727",
   "metadata": {},
   "source": [
    "View prompt examples."
   ]
  },
  {
   "cell_type": "code",
   "execution_count": 8,
   "id": "b369f7b1",
   "metadata": {
    "execution": {
     "iopub.execute_input": "2023-03-23T15:17:11.855232Z",
     "iopub.status.busy": "2023-03-23T15:17:11.854706Z",
     "iopub.status.idle": "2023-03-23T15:17:11.857755Z",
     "shell.execute_reply": "2023-03-23T15:17:11.857206Z"
    },
    "tags": [
     "hide_inp"
    ]
   },
   "outputs": [],
   "source": [
    "# NERPrompt().show(\n",
    "#     {\n",
    "#         \"input\": \"I went to New York\",\n",
    "#         \"domain\": \"Travel\",\n",
    "#         \"labels\": [\"City\"]\n",
    "#     },\n",
    "#     '[{\"T\": \"City\", \"E\": \"New York\"}]',\n",
    "# )\n",
    "# # -\n",
    "\n",
    "# # View log.\n",
    "\n",
    "# minichain.show_log(\"ner.log\")"
   ]
  }
 ],
 "metadata": {
  "jupytext": {
   "cell_metadata_filter": "tags,-all"
  },
  "kernelspec": {
   "display_name": "minichain",
   "language": "python",
   "name": "minichain"
  },
  "language_info": {
   "codemirror_mode": {
    "name": "ipython",
    "version": 3
   },
   "file_extension": ".py",
   "mimetype": "text/x-python",
   "name": "python",
   "nbconvert_exporter": "python",
   "pygments_lexer": "ipython3",
   "version": "3.10.6"
  }
 },
 "nbformat": 4,
 "nbformat_minor": 5
}
