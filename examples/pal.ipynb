{
 "cells": [
  {
   "cell_type": "code",
   "execution_count": null,
   "id": "6f5faa2b",
   "metadata": {},
   "outputs": [],
   "source": [
    "!pip install -qqq git+https://github.com/srush/MiniChain@gradio"
   ]
  },
  {
   "cell_type": "code",
   "execution_count": null,
   "id": "c2c0e32f",
   "metadata": {},
   "outputs": [],
   "source": [
    "desc = \"\"\"\n",
    "### Prompt-aided Language Models\n",
    "\n",
    "Chain for answering complex problems by code generation and execution. [[Code](https://github.com/srush/MiniChain/blob/main/examples/pal.py)]\n",
    "\n",
    "(Adapted from Prompt-aided Language Models [PAL](https://arxiv.org/pdf/2211.10435.pdf)).\n",
    "\"\"\""
   ]
  },
  {
   "cell_type": "markdown",
   "id": "2a58ea7d",
   "metadata": {},
   "source": [
    "$"
   ]
  },
  {
   "cell_type": "code",
   "execution_count": null,
   "id": "8d6639f8",
   "metadata": {
    "lines_to_next_cell": 1
   },
   "outputs": [],
   "source": [
    "from minichain import prompt, show, OpenAI, Python"
   ]
  },
  {
   "cell_type": "code",
   "execution_count": null,
   "id": "72baddc4",
   "metadata": {
    "lines_to_next_cell": 1
   },
   "outputs": [],
   "source": [
    "@prompt(OpenAI(), template_file=\"pal.pmpt.tpl\")\n",
    "def pal_prompt(model, question):\n",
    "    return model(dict(question=question))"
   ]
  },
  {
   "cell_type": "code",
   "execution_count": null,
   "id": "df49fabf",
   "metadata": {
    "lines_to_next_cell": 1
   },
   "outputs": [],
   "source": [
    "@prompt(Python())\n",
    "def python(model, inp):\n",
    "    return float(model(inp + \"\\nprint(solution())\"))"
   ]
  },
  {
   "cell_type": "code",
   "execution_count": null,
   "id": "4b961bf6",
   "metadata": {
    "lines_to_next_cell": 1
   },
   "outputs": [],
   "source": [
    "def pal(question):\n",
    "    return python(pal_prompt(question))"
   ]
  },
  {
   "cell_type": "markdown",
   "id": "2d548ebe",
   "metadata": {},
   "source": [
    "$"
   ]
  },
  {
   "cell_type": "code",
   "execution_count": null,
   "id": "7439bb3a",
   "metadata": {},
   "outputs": [],
   "source": [
    "question = \"Melanie is a door-to-door saleswoman. She sold a third of her \" \\\n",
    "    \"vacuum cleaners at the green house, 2 more to the red house, and half of \" \\\n",
    "    \"what was left at the orange house. If Melanie has 5 vacuum cleaners left, \" \\\n",
    "    \"how many did she start with?\""
   ]
  },
  {
   "cell_type": "code",
   "execution_count": null,
   "id": "18038289",
   "metadata": {},
   "outputs": [],
   "source": [
    "gradio = show(pal,\n",
    "              examples=[question],\n",
    "              subprompts=[pal_prompt, python],\n",
    "              description=desc,\n",
    "              out_type=\"json\",\n",
    "              code=open(\"pal.py\", \"r\").read().split(\"$\")[1].strip().strip(\"#\").strip(),\n",
    "              )"
   ]
  },
  {
   "cell_type": "code",
   "execution_count": null,
   "id": "822f76d8",
   "metadata": {},
   "outputs": [],
   "source": [
    "if __name__ == \"__main__\":\n",
    "    gradio.launch()"
   ]
  }
 ],
 "metadata": {
  "jupytext": {
   "cell_metadata_filter": "-all",
   "main_language": "python",
   "notebook_metadata_filter": "-all"
  }
 },
 "nbformat": 4,
 "nbformat_minor": 5
}
