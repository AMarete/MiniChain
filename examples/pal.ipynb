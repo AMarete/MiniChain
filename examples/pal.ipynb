{
 "cells": [
  {
   "cell_type": "code",
   "execution_count": 1,
   "id": "5fce08e2",
   "metadata": {
    "execution": {
     "iopub.execute_input": "2023-03-23T15:17:14.561737Z",
     "iopub.status.busy": "2023-03-23T15:17:14.561056Z",
     "iopub.status.idle": "2023-03-23T15:17:14.569642Z",
     "shell.execute_reply": "2023-03-23T15:17:14.568834Z"
    }
   },
   "outputs": [],
   "source": [
    "desc = \"\"\"\n",
    "### Prompt-aided Language Models\n",
    "\n",
    "Chain for answering complex problems by code generation and execution. [[Code](https://github.com/srush/MiniChain/blob/main/examples/pal.py)]\n",
    "\n",
    "(Adapted from Prompt-aided Language Models [PAL](https://arxiv.org/pdf/2211.10435.pdf)).\n",
    "\"\"\""
   ]
  },
  {
   "cell_type": "markdown",
   "id": "6849c1f5",
   "metadata": {},
   "source": [
    "$"
   ]
  },
  {
   "cell_type": "code",
   "execution_count": 2,
   "id": "1ba3dbf2",
   "metadata": {
    "execution": {
     "iopub.execute_input": "2023-03-23T15:17:14.572899Z",
     "iopub.status.busy": "2023-03-23T15:17:14.572549Z",
     "iopub.status.idle": "2023-03-23T15:17:15.881973Z",
     "shell.execute_reply": "2023-03-23T15:17:15.881301Z"
    },
    "lines_to_next_cell": 1
   },
   "outputs": [],
   "source": [
    "from minichain import prompt, show, OpenAI, Python"
   ]
  },
  {
   "cell_type": "code",
   "execution_count": 3,
   "id": "a0b0eeb3",
   "metadata": {
    "execution": {
     "iopub.execute_input": "2023-03-23T15:17:15.885163Z",
     "iopub.status.busy": "2023-03-23T15:17:15.884767Z",
     "iopub.status.idle": "2023-03-23T15:17:15.888353Z",
     "shell.execute_reply": "2023-03-23T15:17:15.887857Z"
    },
    "lines_to_next_cell": 1
   },
   "outputs": [],
   "source": [
    "@prompt(OpenAI(), template_file=\"pal.pmpt.tpl\")\n",
    "def pal_prompt(model, question):\n",
    "    return model(dict(question=question))"
   ]
  },
  {
   "cell_type": "code",
   "execution_count": 4,
   "id": "318300c3",
   "metadata": {
    "execution": {
     "iopub.execute_input": "2023-03-23T15:17:15.891062Z",
     "iopub.status.busy": "2023-03-23T15:17:15.890787Z",
     "iopub.status.idle": "2023-03-23T15:17:15.894150Z",
     "shell.execute_reply": "2023-03-23T15:17:15.893604Z"
    },
    "lines_to_next_cell": 1
   },
   "outputs": [],
   "source": [
    "@prompt(Python())\n",
    "def python(model, inp):\n",
    "    return float(model(inp + \"\\nprint(solution())\"))"
   ]
  },
  {
   "cell_type": "code",
   "execution_count": 5,
   "id": "8db188ed",
   "metadata": {
    "execution": {
     "iopub.execute_input": "2023-03-23T15:17:15.896252Z",
     "iopub.status.busy": "2023-03-23T15:17:15.896065Z",
     "iopub.status.idle": "2023-03-23T15:17:15.898942Z",
     "shell.execute_reply": "2023-03-23T15:17:15.898502Z"
    },
    "lines_to_next_cell": 1
   },
   "outputs": [],
   "source": [
    "def pal(question):\n",
    "    return python(pal_prompt(question))"
   ]
  },
  {
   "cell_type": "markdown",
   "id": "44dd24a8",
   "metadata": {},
   "source": [
    "$"
   ]
  },
  {
   "cell_type": "code",
   "execution_count": 6,
   "id": "d38166e1",
   "metadata": {
    "execution": {
     "iopub.execute_input": "2023-03-23T15:17:15.901284Z",
     "iopub.status.busy": "2023-03-23T15:17:15.900891Z",
     "iopub.status.idle": "2023-03-23T15:17:15.903772Z",
     "shell.execute_reply": "2023-03-23T15:17:15.903297Z"
    }
   },
   "outputs": [],
   "source": [
    "question = \"Melanie is a door-to-door saleswoman. She sold a third of her \" \\\n",
    "    \"vacuum cleaners at the green house, 2 more to the red house, and half of \" \\\n",
    "    \"what was left at the orange house. If Melanie has 5 vacuum cleaners left, \" \\\n",
    "    \"how many did she start with?\""
   ]
  },
  {
   "cell_type": "code",
   "execution_count": 7,
   "id": "e86f6b21",
   "metadata": {
    "execution": {
     "iopub.execute_input": "2023-03-23T15:17:15.905766Z",
     "iopub.status.busy": "2023-03-23T15:17:15.905583Z",
     "iopub.status.idle": "2023-03-23T15:17:16.181479Z",
     "shell.execute_reply": "2023-03-23T15:17:16.180809Z"
    }
   },
   "outputs": [],
   "source": [
    "gradio = show(pal,\n",
    "              examples=[question],\n",
    "              subprompts=[pal_prompt, python],\n",
    "              description=desc,\n",
    "              out_type=\"json\",\n",
    "              code=open(\"pal.py\", \"r\").read().split(\"$\")[1].strip().strip(\"#\").strip(),\n",
    "              )"
   ]
  },
  {
   "cell_type": "code",
   "execution_count": 8,
   "id": "968f631c",
   "metadata": {
    "execution": {
     "iopub.execute_input": "2023-03-23T15:17:16.184058Z",
     "iopub.status.busy": "2023-03-23T15:17:16.183858Z",
     "iopub.status.idle": "2023-03-23T15:17:16.245186Z",
     "shell.execute_reply": "2023-03-23T15:17:16.244569Z"
    }
   },
   "outputs": [
    {
     "name": "stdout",
     "output_type": "stream",
     "text": [
      "Running on local URL:  http://127.0.0.1:7862\n",
      "\n",
      "To create a public link, set `share=True` in `launch()`.\n"
     ]
    },
    {
     "data": {
      "text/html": [
       "<div><iframe src=\"http://127.0.0.1:7862/\" width=\"100%\" height=\"500\" allow=\"autoplay; camera; microphone; clipboard-read; clipboard-write;\" frameborder=\"0\" allowfullscreen></iframe></div>"
      ],
      "text/plain": [
       "<IPython.core.display.HTML object>"
      ]
     },
     "metadata": {},
     "output_type": "display_data"
    }
   ],
   "source": [
    "if __name__ == \"__main__\":\n",
    "    gradio.launch()"
   ]
  }
 ],
 "metadata": {
  "jupytext": {
   "cell_metadata_filter": "-all"
  },
  "kernelspec": {
   "display_name": "minichain",
   "language": "python",
   "name": "minichain"
  },
  "language_info": {
   "codemirror_mode": {
    "name": "ipython",
    "version": 3
   },
   "file_extension": ".py",
   "mimetype": "text/x-python",
   "name": "python",
   "nbconvert_exporter": "python",
   "pygments_lexer": "ipython3",
   "version": "3.10.6"
  }
 },
 "nbformat": 4,
 "nbformat_minor": 5
}
