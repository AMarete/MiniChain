{
 "cells": [
  {
   "cell_type": "code",
   "execution_count": null,
   "id": "433776d0",
   "metadata": {},
   "outputs": [],
   "source": [
    "!pip install -qqq git+https://github.com/srush/MiniChain@gradio"
   ]
  },
  {
   "cell_type": "code",
   "execution_count": null,
   "id": "482c8724",
   "metadata": {
    "lines_to_next_cell": 2,
    "tags": [
     "hide_inp"
    ]
   },
   "outputs": [],
   "source": [
    "desc = \"\"\"\n",
    "### Book QA\n",
    "\n",
    "Chain that does question answering with Hugging Face embeddings. [![Open In Colab](https://colab.research.google.com/assets/colab-badge.svg)](https://colab.research.google.com/github/srush/MiniChain/blob/master/examples/gatsby.ipynb)\n",
    "\n",
    "(Adapted from the [LlamaIndex example](https://github.com/jerryjliu/gpt_index/blob/main/examples/gatsby/TestGatsby.ipynb).)\n",
    "\"\"\""
   ]
  },
  {
   "cell_type": "code",
   "execution_count": null,
   "id": "2b6e3096",
   "metadata": {},
   "outputs": [],
   "source": [
    "import datasets\n",
    "import numpy as np\n",
    "from minichain import prompt, show, HuggingFaceEmbed, OpenAI"
   ]
  },
  {
   "cell_type": "markdown",
   "id": "4e74ab1c",
   "metadata": {},
   "source": [
    "Load data with embeddings (computed beforehand)"
   ]
  },
  {
   "cell_type": "code",
   "execution_count": null,
   "id": "0bf5b2df",
   "metadata": {
    "lines_to_next_cell": 1
   },
   "outputs": [],
   "source": [
    "gatsby = datasets.load_from_disk(\"gatsby\")\n",
    "gatsby.add_faiss_index(\"embeddings\")"
   ]
  },
  {
   "cell_type": "markdown",
   "id": "6eb44459",
   "metadata": {},
   "source": [
    "Fast KNN retieval prompt"
   ]
  },
  {
   "cell_type": "code",
   "execution_count": null,
   "id": "b62a611a",
   "metadata": {
    "lines_to_next_cell": 1
   },
   "outputs": [],
   "source": [
    "@prompt(HuggingFaceEmbed(\"sentence-transformers/all-mpnet-base-v2\"))\n",
    "def get_neighbors(model, inp, k=1):\n",
    "    embedding = model(inp)\n",
    "    res = olympics.get_nearest_examples(\"embeddings\", np.array(embedding), k)\n",
    "    return res.examples[\"passages\"]"
   ]
  },
  {
   "cell_type": "code",
   "execution_count": null,
   "id": "6ff22f61",
   "metadata": {
    "lines_to_next_cell": 1
   },
   "outputs": [],
   "source": [
    "@prompt(OpenAI(),\n",
    "        template_file=\"gatsby.pmpt.tpl\")\n",
    "def ask(model, query, neighbors):\n",
    "    return model(dict(question=query, docs=neighbors))"
   ]
  },
  {
   "cell_type": "code",
   "execution_count": null,
   "id": "e15079ce",
   "metadata": {},
   "outputs": [],
   "source": [
    "def gatsby(query):\n",
    "    n = get_neighbors(query)\n",
    "    return ask(query, n)"
   ]
  },
  {
   "cell_type": "code",
   "execution_count": null,
   "id": "da2448e4",
   "metadata": {
    "lines_to_next_cell": 2
   },
   "outputs": [],
   "source": []
  },
  {
   "cell_type": "code",
   "execution_count": null,
   "id": "8b63c1ad",
   "metadata": {},
   "outputs": [],
   "source": [
    "gradio = show(gatsby,\n",
    "              subprompts=[get_neighbors, ask],\n",
    "              examples=[\"What did Gatsby do before he met Daisy?\",\n",
    "                        \"What did the narrator do after getting back to Chicago?\"],\n",
    "              keys={\"HF_KEY\"},\n",
    "              description=desc,\n",
    "              )\n",
    "if __name__ == \"__main__\":\n",
    "    gradio.launch()"
   ]
  },
  {
   "cell_type": "code",
   "execution_count": null,
   "id": "fc5950c6",
   "metadata": {},
   "outputs": [],
   "source": []
  },
  {
   "cell_type": "code",
   "execution_count": null,
   "id": "4a23fe3f",
   "metadata": {
    "tags": [
     "hide_inp"
    ]
   },
   "outputs": [],
   "source": [
    "# QAPrompt().show({\"question\": \"Who was Gatsby?\", \"docs\": [\"doc1\", \"doc2\", \"doc3\"]}, \"\")\n",
    "# # -\n",
    "\n",
    "# show_log(\"gatsby.log\")"
   ]
  }
 ],
 "metadata": {
  "jupytext": {
   "cell_metadata_filter": "tags,-all",
   "main_language": "python",
   "notebook_metadata_filter": "-all"
  }
 },
 "nbformat": 4,
 "nbformat_minor": 5
}
