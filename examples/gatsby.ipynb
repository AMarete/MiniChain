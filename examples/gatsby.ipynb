{
 "cells": [
  {
   "cell_type": "code",
   "execution_count": null,
   "id": "50954bf5",
   "metadata": {},
   "outputs": [],
   "source": [
    "!pip install -qqq git+https://github.com/srush/MiniChain@gradio"
   ]
  },
  {
   "cell_type": "code",
   "execution_count": null,
   "id": "01d0845f",
   "metadata": {
    "tags": [
     "hide_inp"
    ]
   },
   "outputs": [],
   "source": [
    "desc = \"\"\"\n",
    "### Book QA\n",
    "\n",
    "Chain that does question answering with Hugging Face embeddings. [[Code](https://github.com/srush/MiniChain/blob/main/examples/gatsby.py)]\n",
    "\n",
    "(Adapted from the [LlamaIndex example](https://github.com/jerryjliu/gpt_index/blob/main/examples/gatsby/TestGatsby.ipynb).)\n",
    "\"\"\""
   ]
  },
  {
   "cell_type": "markdown",
   "id": "83009bea",
   "metadata": {},
   "source": [
    "$"
   ]
  },
  {
   "cell_type": "code",
   "execution_count": null,
   "id": "1f7b21c3",
   "metadata": {},
   "outputs": [],
   "source": [
    "import datasets\n",
    "import numpy as np\n",
    "from minichain import prompt, show, HuggingFaceEmbed, OpenAI"
   ]
  },
  {
   "cell_type": "markdown",
   "id": "15aed11e",
   "metadata": {},
   "source": [
    "Load data with embeddings (computed beforehand)"
   ]
  },
  {
   "cell_type": "code",
   "execution_count": null,
   "id": "6e332967",
   "metadata": {
    "lines_to_next_cell": 1
   },
   "outputs": [],
   "source": [
    "gatsby = datasets.load_from_disk(\"gatsby\")\n",
    "gatsby.add_faiss_index(\"embeddings\")"
   ]
  },
  {
   "cell_type": "markdown",
   "id": "e21ca8b2",
   "metadata": {},
   "source": [
    "Fast KNN retieval prompt"
   ]
  },
  {
   "cell_type": "code",
   "execution_count": null,
   "id": "93d972af",
   "metadata": {
    "lines_to_next_cell": 1
   },
   "outputs": [],
   "source": [
    "@prompt(HuggingFaceEmbed(\"sentence-transformers/all-mpnet-base-v2\"))\n",
    "def get_neighbors(model, inp, k=1):\n",
    "    embedding = model(inp)\n",
    "    res = olympics.get_nearest_examples(\"embeddings\", np.array(embedding), k)\n",
    "    return res.examples[\"passages\"]"
   ]
  },
  {
   "cell_type": "code",
   "execution_count": null,
   "id": "1a7d6df0",
   "metadata": {
    "lines_to_next_cell": 1
   },
   "outputs": [],
   "source": [
    "@prompt(OpenAI(),\n",
    "        template_file=\"gatsby.pmpt.tpl\")\n",
    "def ask(model, query, neighbors):\n",
    "    return model(dict(question=query, docs=neighbors))"
   ]
  },
  {
   "cell_type": "code",
   "execution_count": null,
   "id": "c2ce828a",
   "metadata": {
    "lines_to_next_cell": 2
   },
   "outputs": [],
   "source": [
    "def gatsby(query):\n",
    "    n = get_neighbors(query)\n",
    "    return ask(query, n)"
   ]
  },
  {
   "cell_type": "markdown",
   "id": "714c0ab9",
   "metadata": {
    "lines_to_next_cell": 2
   },
   "source": [
    "$"
   ]
  },
  {
   "cell_type": "code",
   "execution_count": null,
   "id": "e4a0e02b",
   "metadata": {},
   "outputs": [],
   "source": [
    "gradio = show(gatsby,\n",
    "              subprompts=[get_neighbors, ask],\n",
    "              examples=[\"What did Gatsby do before he met Daisy?\",\n",
    "                        \"What did the narrator do after getting back to Chicago?\"],\n",
    "              keys={\"HF_KEY\"},\n",
    "              description=desc,\n",
    "              code=open(\"gatsby.py\", \"r\").read().split(\"$\")[1].strip().strip(\"#\").strip()\n",
    "              )\n",
    "if __name__ == \"__main__\":\n",
    "    gradio.launch()"
   ]
  },
  {
   "cell_type": "code",
   "execution_count": null,
   "id": "d842f7b4",
   "metadata": {},
   "outputs": [],
   "source": []
  },
  {
   "cell_type": "code",
   "execution_count": null,
   "id": "5e452fde",
   "metadata": {
    "tags": [
     "hide_inp"
    ]
   },
   "outputs": [],
   "source": [
    "# QAPrompt().show({\"question\": \"Who was Gatsby?\", \"docs\": [\"doc1\", \"doc2\", \"doc3\"]}, \"\")\n",
    "# # -\n",
    "\n",
    "# show_log(\"gatsby.log\")"
   ]
  }
 ],
 "metadata": {
  "jupytext": {
   "cell_metadata_filter": "tags,-all",
   "main_language": "python",
   "notebook_metadata_filter": "-all"
  }
 },
 "nbformat": 4,
 "nbformat_minor": 5
}
