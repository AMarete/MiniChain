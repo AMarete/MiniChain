{
 "cells": [
  {
   "cell_type": "code",
   "execution_count": null,
   "id": "896fbf65",
   "metadata": {
    "lines_to_next_cell": 2
   },
   "outputs": [],
   "source": [
    "!pip install -qqq git+https://github.com/srush/MiniChain@gradio"
   ]
  },
  {
   "cell_type": "code",
   "execution_count": null,
   "id": "4e244e31",
   "metadata": {},
   "outputs": [],
   "source": [
    "desc = \"\"\"\n",
    "### Typed Extraction\n",
    "\n",
    "Information extraction that is automatically generated from a typed specification. [[Code](https://github.com/srush/MiniChain/blob/main/examples/stats.py)]\n",
    "\n",
    "(Novel to MiniChain)\n",
    "\"\"\""
   ]
  },
  {
   "cell_type": "markdown",
   "id": "8014545e",
   "metadata": {},
   "source": [
    "$"
   ]
  },
  {
   "cell_type": "code",
   "execution_count": null,
   "id": "1f0309b4",
   "metadata": {
    "lines_to_next_cell": 1
   },
   "outputs": [],
   "source": [
    "from minichain import prompt, show, type_to_prompt, OpenAI\n",
    "from dataclasses import dataclass\n",
    "from typing import List\n",
    "from enum import Enum"
   ]
  },
  {
   "cell_type": "markdown",
   "id": "fe58125d",
   "metadata": {},
   "source": [
    "Data specification"
   ]
  },
  {
   "cell_type": "code",
   "execution_count": null,
   "id": "00d97857",
   "metadata": {},
   "outputs": [],
   "source": [
    "class StatType(Enum):\n",
    "    POINTS = 1\n",
    "    REBOUNDS = 2\n",
    "    ASSISTS = 3\n",
    "\n",
    "@dataclass\n",
    "class Stat:\n",
    "    value: int\n",
    "    stat: StatType\n",
    "\n",
    "@dataclass\n",
    "class Player:\n",
    "    player: str\n",
    "    stats: List[Stat]"
   ]
  },
  {
   "cell_type": "code",
   "execution_count": null,
   "id": "0ae8549d",
   "metadata": {
    "lines_to_next_cell": 1
   },
   "outputs": [],
   "source": [
    "@prompt(OpenAI(), template_file=\"stats.pmpt.tpl\", parser=\"json\")\n",
    "def stats(model, passage):\n",
    "    out = model(dict(passage=passage, typ=type_to_prompt(Player)))\n",
    "    return [Player(**j) for j in out]  "
   ]
  },
  {
   "cell_type": "markdown",
   "id": "ed8d2f9f",
   "metadata": {},
   "source": [
    "$"
   ]
  },
  {
   "cell_type": "code",
   "execution_count": null,
   "id": "60380e0e",
   "metadata": {
    "lines_to_next_cell": 2
   },
   "outputs": [],
   "source": [
    "article = open(\"sixers.txt\").read()\n",
    "gradio = show(lambda passage: stats(passage),\n",
    "              examples=[article],\n",
    "              subprompts=[stats],\n",
    "              out_type=\"json\",\n",
    "              description=desc,\n",
    "              code=open(\"stats.py\", \"r\").read().split(\"$\")[1].strip().strip(\"#\").strip(),\n",
    ")\n",
    "if __name__ == \"__main__\":\n",
    "    gradio.launch()"
   ]
  },
  {
   "cell_type": "markdown",
   "id": "6aceea1b",
   "metadata": {},
   "source": [
    "ExtractionPrompt().show({\"passage\": \"Harden had 10 rebounds.\"},\n",
    "                        '[{\"player\": \"Harden\", \"stats\": {\"value\": 10, \"stat\": 2}}]')"
   ]
  },
  {
   "cell_type": "markdown",
   "id": "9d921b29",
   "metadata": {},
   "source": [
    "# View the run log."
   ]
  },
  {
   "cell_type": "markdown",
   "id": "54e60ab1",
   "metadata": {},
   "source": [
    "minichain.show_log(\"bash.log\")"
   ]
  }
 ],
 "metadata": {
  "jupytext": {
   "cell_metadata_filter": "-all",
   "main_language": "python",
   "notebook_metadata_filter": "-all"
  }
 },
 "nbformat": 4,
 "nbformat_minor": 5
}
