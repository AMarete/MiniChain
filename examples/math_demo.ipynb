{
 "cells": [
  {
   "cell_type": "code",
   "execution_count": 1,
   "id": "ce57dadf",
   "metadata": {
    "execution": {
     "iopub.execute_input": "2023-03-23T15:18:43.631478Z",
     "iopub.status.busy": "2023-03-23T15:18:43.631029Z",
     "iopub.status.idle": "2023-03-23T15:18:43.638586Z",
     "shell.execute_reply": "2023-03-23T15:18:43.638035Z"
    },
    "tags": [
     "hide_inp"
    ]
   },
   "outputs": [],
   "source": [
    "desc = \"\"\"\n",
    "### Word Problem Solver\n",
    "\n",
    "Chain that solves a math word problem by first generating and then running Python code. [[Code](https://github.com/srush/MiniChain/blob/main/examples/math.py)]\n",
    "\n",
    "[![Open In Colab](https://colab.research.google.com/assets/colab-badge.svg)](https://colab.research.google.com/github/srush/MiniChain/blob/gradio/examples/math_demo.ipynb)\n",
    "\n",
    "(Adapted from Dust [maths-generate-code](https://dust.tt/spolu/a/d12ac33169))\n",
    "\"\"\""
   ]
  },
  {
   "cell_type": "markdown",
   "id": "6f1949d2",
   "metadata": {},
   "source": [
    "$"
   ]
  },
  {
   "cell_type": "code",
   "execution_count": 2,
   "id": "724ecb04",
   "metadata": {
    "execution": {
     "iopub.execute_input": "2023-03-23T15:18:43.641279Z",
     "iopub.status.busy": "2023-03-23T15:18:43.641093Z",
     "iopub.status.idle": "2023-03-23T15:18:44.906146Z",
     "shell.execute_reply": "2023-03-23T15:18:44.905437Z"
    }
   },
   "outputs": [],
   "source": [
    "from minichain import show, prompt, OpenAI, Python"
   ]
  },
  {
   "cell_type": "code",
   "execution_count": 3,
   "id": "84750c86",
   "metadata": {
    "execution": {
     "iopub.execute_input": "2023-03-23T15:18:44.909262Z",
     "iopub.status.busy": "2023-03-23T15:18:44.908552Z",
     "iopub.status.idle": "2023-03-23T15:18:44.912210Z",
     "shell.execute_reply": "2023-03-23T15:18:44.911605Z"
    },
    "lines_to_next_cell": 1
   },
   "outputs": [],
   "source": [
    "@prompt(OpenAI(), template_file=\"math.pmpt.tpl\")\n",
    "def math_prompt(model, question):\n",
    "    \"Prompt to call GPT with a Jinja template\"\n",
    "    return model(dict(question=question))"
   ]
  },
  {
   "cell_type": "code",
   "execution_count": 4,
   "id": "7471bc0b",
   "metadata": {
    "execution": {
     "iopub.execute_input": "2023-03-23T15:18:44.914540Z",
     "iopub.status.busy": "2023-03-23T15:18:44.914351Z",
     "iopub.status.idle": "2023-03-23T15:18:44.918172Z",
     "shell.execute_reply": "2023-03-23T15:18:44.917539Z"
    },
    "lines_to_next_cell": 1
   },
   "outputs": [],
   "source": [
    "@prompt(Python(), template=\"import math\\n{{code}}\")\n",
    "def python(model, code):\n",
    "    \"Prompt to call Python interpreter\"\n",
    "    code = \"\\n\".join(code.strip().split(\"\\n\")[1:-1])\n",
    "    return int(model(dict(code=code)))"
   ]
  },
  {
   "cell_type": "code",
   "execution_count": 5,
   "id": "342c39dc",
   "metadata": {
    "execution": {
     "iopub.execute_input": "2023-03-23T15:18:44.920575Z",
     "iopub.status.busy": "2023-03-23T15:18:44.920374Z",
     "iopub.status.idle": "2023-03-23T15:18:44.923234Z",
     "shell.execute_reply": "2023-03-23T15:18:44.922800Z"
    },
    "lines_to_next_cell": 1
   },
   "outputs": [],
   "source": [
    "def math_demo(question):\n",
    "    \"Chain them together\"\n",
    "    return python(math_prompt(question))"
   ]
  },
  {
   "cell_type": "markdown",
   "id": "ebcf35ff",
   "metadata": {},
   "source": [
    "$"
   ]
  },
  {
   "cell_type": "code",
   "execution_count": 6,
   "id": "34d9988c",
   "metadata": {
    "execution": {
     "iopub.execute_input": "2023-03-23T15:18:44.925688Z",
     "iopub.status.busy": "2023-03-23T15:18:44.925332Z",
     "iopub.status.idle": "2023-03-23T15:18:45.295557Z",
     "shell.execute_reply": "2023-03-23T15:18:45.294945Z"
    },
    "lines_to_next_cell": 0,
    "tags": [
     "hide_inp"
    ]
   },
   "outputs": [
    {
     "name": "stdout",
     "output_type": "stream",
     "text": [
      "Running on local URL:  http://127.0.0.1:7862\n",
      "\n",
      "To create a public link, set `share=True` in `launch()`.\n"
     ]
    },
    {
     "data": {
      "text/html": [
       "<div><iframe src=\"http://127.0.0.1:7862/\" width=\"100%\" height=\"500\" allow=\"autoplay; camera; microphone; clipboard-read; clipboard-write;\" frameborder=\"0\" allowfullscreen></iframe></div>"
      ],
      "text/plain": [
       "<IPython.core.display.HTML object>"
      ]
     },
     "metadata": {},
     "output_type": "display_data"
    }
   ],
   "source": [
    "gradio = show(math_demo,\n",
    "              examples=[\"What is the sum of the powers of 3 (3^i) that are smaller than 100?\",\n",
    "                        \"What is the sum of the 10 first positive integers?\",],\n",
    "                        # \"Carla is downloading a 200 GB file. She can download 2 GB/minute, but 40% of the way through the download, the download fails. Then Carla has to restart the download from the beginning. How load did it take her to download the file in minutes?\"],\n",
    "              subprompts=[math_prompt, python],\n",
    "              out_type=\"json\",\n",
    "              description=desc,\n",
    "              code=open(\"math_demo.py\", \"r\").read().split(\"$\")[1].strip().strip(\"#\").strip(),\n",
    "              )\n",
    "if __name__ == \"__main__\":\n",
    "    gradio.launch()"
   ]
  },
  {
   "cell_type": "code",
   "execution_count": null,
   "id": "52adcabb",
   "metadata": {},
   "outputs": [],
   "source": [
    "    "
   ]
  }
 ],
 "metadata": {
  "jupytext": {
   "cell_metadata_filter": "tags,-all"
  },
  "kernelspec": {
   "display_name": "minichain",
   "language": "python",
   "name": "minichain"
  },
  "language_info": {
   "codemirror_mode": {
    "name": "ipython",
    "version": 3
   },
   "file_extension": ".py",
   "mimetype": "text/x-python",
   "name": "python",
   "nbconvert_exporter": "python",
   "pygments_lexer": "ipython3",
   "version": "3.10.6"
  }
 },
 "nbformat": 4,
 "nbformat_minor": 5
}
