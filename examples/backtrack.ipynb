{
 "cells": [
  {
   "cell_type": "code",
   "execution_count": null,
   "id": "68ac3ea0",
   "metadata": {},
   "outputs": [],
   "source": [
    "!pip install -qqq git+https://github.com/srush/MiniChain@gradio"
   ]
  },
  {
   "cell_type": "code",
   "execution_count": null,
   "id": "0e79a616",
   "metadata": {
    "tags": [
     "hide_inp"
    ]
   },
   "outputs": [],
   "source": [
    "desc = \"\"\"\n",
    "### Backtrack on Failure\n",
    "\n",
    "Chain that backtracks on failure. [[Code](https://github.com/srush/MiniChain/blob/main/examples/backtrack.py)]\n",
    "\n",
    "\"\"\""
   ]
  },
  {
   "cell_type": "code",
   "execution_count": null,
   "id": "941c8e49",
   "metadata": {
    "lines_to_next_cell": 1
   },
   "outputs": [],
   "source": [
    "# $\n",
    "from minichain import prompt, Mock, show, OpenAI\n",
    "import minichain"
   ]
  },
  {
   "cell_type": "code",
   "execution_count": null,
   "id": "60a1fbc6",
   "metadata": {
    "lines_to_next_cell": 1
   },
   "outputs": [],
   "source": [
    "@prompt(Mock([\"dog\", \"blue\", \"cat\"]))\n",
    "def prompt_generation(model):\n",
    "    return model(\"\")"
   ]
  },
  {
   "cell_type": "code",
   "execution_count": null,
   "id": "8d2bd2bb",
   "metadata": {
    "lines_to_next_cell": 1
   },
   "outputs": [],
   "source": [
    "@prompt(OpenAI(), template=\"Answer 'yes' is {{query}} is a color. Answer:\")\n",
    "def prompt_validation(model, x):\n",
    "    out = model(dict(query=x))\n",
    "    if out.strip().lower().startswith(\"yes\"):\n",
    "        return x\n",
    "    return model.fail(1)"
   ]
  },
  {
   "cell_type": "code",
   "execution_count": null,
   "id": "48942884",
   "metadata": {
    "lines_to_next_cell": 1
   },
   "outputs": [],
   "source": [
    "def run():\n",
    "    x = prompt_generation()\n",
    "    return prompt_validation(x)\n",
    "# $"
   ]
  },
  {
   "cell_type": "code",
   "execution_count": null,
   "id": "ef1886f7",
   "metadata": {},
   "outputs": [],
   "source": [
    "gradio = show(run,\n",
    "            examples = [],\n",
    "            subprompts=[prompt_generation, prompt_validation],\n",
    "            code=open(\"backtrack.py\", \"r\").read().split(\"$\")[1].strip().strip(\"#\").strip(),\n",
    "            out_type=\"markdown\"\n",
    "            )"
   ]
  },
  {
   "cell_type": "code",
   "execution_count": null,
   "id": "782979e1",
   "metadata": {},
   "outputs": [],
   "source": [
    "if __name__ == \"__main__\":\n",
    "    gradio.launch()"
   ]
  }
 ],
 "metadata": {
  "jupytext": {
   "cell_metadata_filter": "tags,-all",
   "main_language": "python",
   "notebook_metadata_filter": "-all"
  }
 },
 "nbformat": 4,
 "nbformat_minor": 5
}
