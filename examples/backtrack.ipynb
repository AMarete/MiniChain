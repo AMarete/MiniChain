{
 "cells": [
  {
   "cell_type": "code",
   "execution_count": 1,
   "id": "a8ac8aae",
   "metadata": {
    "execution": {
     "iopub.execute_input": "2023-03-23T15:18:56.447783Z",
     "iopub.status.busy": "2023-03-23T15:18:56.447515Z",
     "iopub.status.idle": "2023-03-23T15:18:56.454559Z",
     "shell.execute_reply": "2023-03-23T15:18:56.454013Z"
    },
    "tags": [
     "hide_inp"
    ]
   },
   "outputs": [],
   "source": [
    "desc = \"\"\"\n",
    "### Backtrack on Failure\n",
    "\n",
    "Chain that backtracks on failure. [[Code](https://github.com/srush/MiniChain/blob/main/examples/backtrack.py)]\n",
    "\n",
    "\"\"\""
   ]
  },
  {
   "cell_type": "code",
   "execution_count": 2,
   "id": "ee20f717",
   "metadata": {
    "execution": {
     "iopub.execute_input": "2023-03-23T15:18:56.456905Z",
     "iopub.status.busy": "2023-03-23T15:18:56.456717Z",
     "iopub.status.idle": "2023-03-23T15:18:57.743825Z",
     "shell.execute_reply": "2023-03-23T15:18:57.742065Z"
    },
    "lines_to_next_cell": 1
   },
   "outputs": [],
   "source": [
    "# $\n",
    "from minichain import prompt, Mock, show, OpenAI\n",
    "import minichain"
   ]
  },
  {
   "cell_type": "code",
   "execution_count": 3,
   "id": "154774d2",
   "metadata": {
    "execution": {
     "iopub.execute_input": "2023-03-23T15:18:57.749869Z",
     "iopub.status.busy": "2023-03-23T15:18:57.749225Z",
     "iopub.status.idle": "2023-03-23T15:18:57.755045Z",
     "shell.execute_reply": "2023-03-23T15:18:57.754209Z"
    },
    "lines_to_next_cell": 1
   },
   "outputs": [],
   "source": [
    "@prompt(Mock([\"dog\", \"blue\", \"cat\"]))\n",
    "def prompt_generation(model):\n",
    "    return model(\"\")"
   ]
  },
  {
   "cell_type": "code",
   "execution_count": 4,
   "id": "cd684d68",
   "metadata": {
    "execution": {
     "iopub.execute_input": "2023-03-23T15:18:57.758458Z",
     "iopub.status.busy": "2023-03-23T15:18:57.758195Z",
     "iopub.status.idle": "2023-03-23T15:18:57.763055Z",
     "shell.execute_reply": "2023-03-23T15:18:57.762456Z"
    },
    "lines_to_next_cell": 1
   },
   "outputs": [],
   "source": [
    "@prompt(OpenAI(), template=\"Answer 'yes' is {{query}} is a color. Answer:\")\n",
    "def prompt_validation(model, x):\n",
    "    out = model(dict(query=x))\n",
    "    if out.strip().lower().startswith(\"yes\"):\n",
    "        return x\n",
    "    return model.fail(1)"
   ]
  },
  {
   "cell_type": "code",
   "execution_count": 5,
   "id": "5cdc0433",
   "metadata": {
    "execution": {
     "iopub.execute_input": "2023-03-23T15:18:57.765784Z",
     "iopub.status.busy": "2023-03-23T15:18:57.765556Z",
     "iopub.status.idle": "2023-03-23T15:18:57.768735Z",
     "shell.execute_reply": "2023-03-23T15:18:57.768258Z"
    },
    "lines_to_next_cell": 1
   },
   "outputs": [],
   "source": [
    "def run():\n",
    "    x = prompt_generation()\n",
    "    return prompt_validation(x)\n",
    "# $"
   ]
  },
  {
   "cell_type": "code",
   "execution_count": 6,
   "id": "c06b8213",
   "metadata": {
    "execution": {
     "iopub.execute_input": "2023-03-23T15:18:57.770987Z",
     "iopub.status.busy": "2023-03-23T15:18:57.770807Z",
     "iopub.status.idle": "2023-03-23T15:18:58.025183Z",
     "shell.execute_reply": "2023-03-23T15:18:58.024402Z"
    }
   },
   "outputs": [],
   "source": [
    "gradio = show(run,\n",
    "            examples = [],\n",
    "            subprompts=[prompt_generation, prompt_validation],\n",
    "            code=open(\"backtrack.py\", \"r\").read().split(\"$\")[1].strip().strip(\"#\").strip(),\n",
    "            out_type=\"markdown\"\n",
    "            )"
   ]
  },
  {
   "cell_type": "code",
   "execution_count": 7,
   "id": "d8f861e9",
   "metadata": {
    "execution": {
     "iopub.execute_input": "2023-03-23T15:18:58.027702Z",
     "iopub.status.busy": "2023-03-23T15:18:58.027504Z",
     "iopub.status.idle": "2023-03-23T15:18:58.091778Z",
     "shell.execute_reply": "2023-03-23T15:18:58.091176Z"
    }
   },
   "outputs": [
    {
     "name": "stdout",
     "output_type": "stream",
     "text": [
      "Running on local URL:  http://127.0.0.1:7862\n",
      "\n",
      "To create a public link, set `share=True` in `launch()`.\n"
     ]
    },
    {
     "data": {
      "text/html": [
       "<div><iframe src=\"http://127.0.0.1:7862/\" width=\"100%\" height=\"500\" allow=\"autoplay; camera; microphone; clipboard-read; clipboard-write;\" frameborder=\"0\" allowfullscreen></iframe></div>"
      ],
      "text/plain": [
       "<IPython.core.display.HTML object>"
      ]
     },
     "metadata": {},
     "output_type": "display_data"
    }
   ],
   "source": [
    "if __name__ == \"__main__\":\n",
    "    gradio.launch()"
   ]
  }
 ],
 "metadata": {
  "jupytext": {
   "cell_metadata_filter": "tags,-all"
  },
  "kernelspec": {
   "display_name": "minichain",
   "language": "python",
   "name": "minichain"
  },
  "language_info": {
   "codemirror_mode": {
    "name": "ipython",
    "version": 3
   },
   "file_extension": ".py",
   "mimetype": "text/x-python",
   "name": "python",
   "nbconvert_exporter": "python",
   "pygments_lexer": "ipython3",
   "version": "3.10.6"
  }
 },
 "nbformat": 4,
 "nbformat_minor": 5
}
