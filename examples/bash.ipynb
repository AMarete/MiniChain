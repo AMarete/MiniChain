{
 "cells": [
  {
   "cell_type": "code",
   "execution_count": null,
   "id": "d51e5c06",
   "metadata": {},
   "outputs": [],
   "source": [
    "!pip install -qqq git+https://github.com/srush/MiniChain@gradio"
   ]
  },
  {
   "cell_type": "code",
   "execution_count": null,
   "id": "d80548f2",
   "metadata": {
    "tags": [
     "hide_inp"
    ]
   },
   "outputs": [],
   "source": [
    "\n",
    "desc = \"\"\"\n",
    "### Bash Command Suggestion\n",
    "\n",
    "Chain that ask for a command-line question and then runs the bash command. [[Code](https://github.com/srush/MiniChain/blob/main/examples/bash.py)]\n",
    "\n",
    "(Adapted from LangChain [BashChain](https://langchain.readthedocs.io/en/latest/modules/chains/examples/llm_bash.html))\n",
    "\"\"\""
   ]
  },
  {
   "cell_type": "markdown",
   "id": "16e0521c",
   "metadata": {},
   "source": [
    "$"
   ]
  },
  {
   "cell_type": "code",
   "execution_count": null,
   "id": "85d18f76",
   "metadata": {},
   "outputs": [],
   "source": [
    "from minichain import show, prompt, OpenAI, Bash"
   ]
  },
  {
   "cell_type": "code",
   "execution_count": null,
   "id": "334554df",
   "metadata": {
    "lines_to_next_cell": 1
   },
   "outputs": [],
   "source": [
    "@prompt(OpenAI(), template_file = \"bash.pmpt.tpl\")\n",
    "def cli_prompt(model, query):\n",
    "    x = model(dict(question=query))\n",
    "    return \"\\n\".join(x.strip().split(\"\\n\")[1:-1])"
   ]
  },
  {
   "cell_type": "code",
   "execution_count": null,
   "id": "8e4f0120",
   "metadata": {
    "lines_to_next_cell": 1
   },
   "outputs": [],
   "source": [
    "@prompt(Bash())\n",
    "def bash_run(model, x):\n",
    "    return model(x)"
   ]
  },
  {
   "cell_type": "code",
   "execution_count": null,
   "id": "c6ac6b30",
   "metadata": {},
   "outputs": [],
   "source": [
    "def bash(query):\n",
    "    return bash_run(cli_prompt(query))"
   ]
  },
  {
   "cell_type": "markdown",
   "id": "a87e2554",
   "metadata": {},
   "source": [
    "$"
   ]
  },
  {
   "cell_type": "code",
   "execution_count": null,
   "id": "cdb4d958",
   "metadata": {
    "lines_to_next_cell": 2
   },
   "outputs": [],
   "source": [
    "gradio = show(bash,\n",
    "              subprompts=[cli_prompt, bash_run],\n",
    "              examples=['Go up one directory, and then into the minichain directory,'\n",
    "                        'and list the files in the directory',\n",
    "                        \"Please write a bash script that prints 'Hello World' to the console.\"],\n",
    "              out_type=\"markdown\",\n",
    "              description=desc,\n",
    "              code=open(\"bash.py\", \"r\").read().split(\"$\")[1].strip().strip(\"#\").strip(),\n",
    "              )\n",
    "if __name__ == \"__main__\":\n",
    "    gradio.launch()"
   ]
  }
 ],
 "metadata": {
  "jupytext": {
   "cell_metadata_filter": "tags,-all",
   "main_language": "python",
   "notebook_metadata_filter": "-all"
  }
 },
 "nbformat": 4,
 "nbformat_minor": 5
}
